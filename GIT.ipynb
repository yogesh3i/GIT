{
 "cells": [
  {
   "cell_type": "markdown",
   "metadata": {},
   "source": [
    "# After creating a file following steps need to be follow to add it to the GITHUB \n",
    "\n",
    "step 1. *git init*  # initialize the file to be tracked on github.\n",
    "step 2. *git add file name* # adding the file to the commiting environment so thatit will be staged tracked.\n",
    "step 3. *git commit -m 'msg. of the commit'* # it will snap the changes to the file on the github.\n",
    "step 4. git branch -M main  # adding chnges to the main branch. \n",
    "step 5. *git remote add origin repo. location*  on that repo the files will be added\n",
    "step 6. git push -u origin main # cose will be pused to the repo\n"
   ]
  },
  {
   "cell_type": "code",
   "execution_count": 1,
   "metadata": {},
   "outputs": [
    {
     "data": {
      "text/plain": [
       "11"
      ]
     },
     "execution_count": 1,
     "metadata": {},
     "output_type": "execute_result"
    }
   ],
   "source": [
    "3+8"
   ]
  },
  {
   "cell_type": "code",
   "execution_count": null,
   "metadata": {},
   "outputs": [],
   "source": []
  }
 ],
 "metadata": {
  "kernelspec": {
   "display_name": "Python 3",
   "language": "python",
   "name": "python3"
  },
  "language_info": {
   "codemirror_mode": {
    "name": "ipython",
    "version": 3
   },
   "file_extension": ".py",
   "mimetype": "text/x-python",
   "name": "python",
   "nbconvert_exporter": "python",
   "pygments_lexer": "ipython3",
   "version": "3.9.1"
  },
  "orig_nbformat": 4
 },
 "nbformat": 4,
 "nbformat_minor": 2
}
